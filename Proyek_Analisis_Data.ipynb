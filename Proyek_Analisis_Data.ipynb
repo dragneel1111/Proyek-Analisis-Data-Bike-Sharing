{
  "cells": [
    {
      "cell_type": "markdown",
      "metadata": {
        "id": "H9wADwK78DCz"
      },
      "source": [
        "# Proyek Analisis Data: Bike Sharing\n",
        "- **Nama:** Rafli Arrasyid\n",
        "- **Email:** rafly111104@gmail.com\n",
        "- **ID Dicoding:** rafly111104"
      ]
    },
    {
      "cell_type": "markdown",
      "metadata": {
        "id": "eE0raob58DC0"
      },
      "source": [
        "## Menentukan Pertanyaan Bisnis"
      ]
    },
    {
      "cell_type": "markdown",
      "metadata": {
        "id": "GmQeQ5YF8DC0"
      },
      "source": [
        "- Bagaimana tren penggunaan sepeda sepanjang tahun?\n",
        "- Apakah ada pengaruh cuaca terhadap jumlah pengguna sepeda?"
      ]
    },
    {
      "cell_type": "markdown",
      "metadata": {
        "id": "H-z4QGlO8DC1"
      },
      "source": [
        "## Import Semua Packages/Library yang Digunakan"
      ]
    },
    {
      "cell_type": "code",
      "execution_count": null,
      "metadata": {
        "id": "FVYwaObI8DC1"
      },
      "outputs": [],
      "source": [
        "import pandas as pd\n",
        "import numpy as np\n",
        "import matplotlib.pyplot as plt\n",
        "import seaborn as sns\n",
        "import streamlit as st"
      ]
    },
    {
      "cell_type": "markdown",
      "metadata": {
        "id": "h_Sh51Xy8DC1"
      },
      "source": [
        "## Data Wrangling"
      ]
    },
    {
      "cell_type": "markdown",
      "metadata": {
        "id": "sXU2GBYu8DC1"
      },
      "source": [
        "### Gathering Data"
      ]
    },
    {
      "cell_type": "code",
      "execution_count": null,
      "metadata": {
        "id": "zjCBk1BI8DC1"
      },
      "outputs": [],
      "source": [
        "import pandas as pd\n",
        "\n",
        "day_data = pd.read_csv('Bike-sharing-dataset/day.csv')\n",
        "day_data['dteday'] = pd.to_datetime(day_data['dteday'])"
      ]
    },
    {
      "cell_type": "markdown",
      "metadata": {
        "id": "FHSiqaZp8DC1"
      },
      "source": [
        "### Assessing Data"
      ]
    },
    {
      "cell_type": "code",
      "execution_count": null,
      "metadata": {
        "id": "ax-3tEjc9Cj1"
      },
      "outputs": [],
      "source": [
        "# Informasi dasar tentang dataset\n",
        "day_data.info()\n",
        "\n",
        "# Statistik deskriptif dari dataset\n",
        "day_data.describe()\n",
        "\n",
        "# Memeriksa nilai yang hilang\n",
        "day_data.isnull().sum()\n",
        "\n",
        "# Melihat distribusi data\n",
        "day_data.hist(figsize=(14, 10))\n",
        "plt.show()"
      ]
    },
    {
      "cell_type": "markdown",
      "metadata": {
        "id": "EhN5R4hr8DC1"
      },
      "source": [
        "### Cleaning Data"
      ]
    },
    {
      "cell_type": "code",
      "execution_count": null,
      "metadata": {
        "id": "jVnYpprE9Evz"
      },
      "outputs": [],
      "source": [
        "# Menyalin data asli untuk proses pembersihan\n",
        "cleaned_data = day_data.copy()\n",
        "\n",
        "# Mengubah kolom dteday menjadi tipe datetime\n",
        "cleaned_data['dteday'] = pd.to_datetime(cleaned_data['dteday'])\n",
        "\n",
        "# Mengubah tipe data untuk kolom kategori\n",
        "categorical_columns = ['season', 'yr', 'mnth', 'holiday', 'weekday', 'workingday', 'weathersit']\n",
        "for col in categorical_columns:\n",
        "    cleaned_data[col] = cleaned_data[col].astype('category')\n",
        "\n",
        "# Memverifikasi pembersihan data\n",
        "cleaned_data.info()"
      ]
    },
    {
      "cell_type": "markdown",
      "metadata": {
        "id": "gp-Y6wU38DC1"
      },
      "source": [
        "## Exploratory Data Analysis (EDA)"
      ]
    },
    {
      "cell_type": "markdown",
      "metadata": {
        "id": "MW7WF2kr8DC1"
      },
      "source": [
        "### Analisis Statistik Deskriptif"
      ]
    },
    {
      "cell_type": "code",
      "execution_count": null,
      "metadata": {
        "id": "e9CQCZjk8DC2"
      },
      "outputs": [],
      "source": [
        "# Statistik deskriptif dari dataset\n",
        "cleaned_data.describe()"
      ]
    },
    {
      "cell_type": "markdown",
      "metadata": {},
      "source": [
        "### Visualisasi Distribusi Pengguna Sepeda"
      ]
    },
    {
      "cell_type": "code",
      "execution_count": null,
      "metadata": {},
      "outputs": [],
      "source": [
        "import matplotlib.pyplot as plt\n",
        "import seaborn as sns\n",
        "\n",
        "# Visualisasi distribusi pengguna casual, registered, dan total\n",
        "plt.figure(figsize=(14, 7))\n",
        "\n",
        "# Distribusi pengguna casual\n",
        "plt.subplot(1, 3, 1)\n",
        "sns.histplot(cleaned_data['casual'], kde=True)\n",
        "plt.title('Distribusi Pengguna Kasual')\n",
        "plt.xlabel('Jumlah Pengguna Kasual')\n",
        "plt.ylabel('Frekuensi')\n",
        "\n",
        "# Distribusi pengguna registered\n",
        "plt.subplot(1, 3, 2)\n",
        "sns.histplot(cleaned_data['registered'], kde=True)\n",
        "plt.title('Distribusi Pengguna Terdaftar')\n",
        "plt.xlabel('Jumlah Pengguna Terdaftar')\n",
        "plt.ylabel('Frekuensi')\n",
        "\n",
        "# Distribusi pengguna total\n",
        "plt.subplot(1, 3, 3)\n",
        "sns.histplot(cleaned_data['cnt'], kde=True)\n",
        "plt.title('Distribusi Pengguna Total')\n",
        "plt.xlabel('Jumlah Pengguna Total')\n",
        "plt.ylabel('Frekuensi')\n",
        "\n",
        "plt.tight_layout()\n",
        "plt.show()"
      ]
    },
    {
      "cell_type": "markdown",
      "metadata": {},
      "source": [
        "### Analisis Penggunaan Sepeda Berdasarkan Musim"
      ]
    },
    {
      "cell_type": "code",
      "execution_count": null,
      "metadata": {},
      "outputs": [],
      "source": [
        "# Penggunaan sepeda berdasarkan musim\n",
        "plt.figure(figsize=(10, 6))\n",
        "sns.boxplot(data=cleaned_data, x='season', y='cnt')\n",
        "plt.title('Penggunaan Sepeda Berdasarkan Musim')\n",
        "plt.xlabel('Musim')\n",
        "plt.ylabel('Jumlah Pengguna')\n",
        "plt.show()"
      ]
    },
    {
      "cell_type": "markdown",
      "metadata": {},
      "source": [
        "### Pengaruh Hari Kerja dan Hari Libur terhadap Penggunaan Sepeda"
      ]
    },
    {
      "cell_type": "code",
      "execution_count": null,
      "metadata": {},
      "outputs": [],
      "source": [
        "# Penggunaan sepeda pada hari kerja vs hari libur\n",
        "plt.figure(figsize=(10, 6))\n",
        "sns.boxplot(data=cleaned_data, x='workingday', y='cnt')\n",
        "plt.title('Penggunaan Sepeda pada Hari Kerja vs Hari Libur')\n",
        "plt.xlabel('Hari Kerja (0: Tidak, 1: Ya)')\n",
        "plt.ylabel('Jumlah Pengguna')\n",
        "plt.show()"
      ]
    },
    {
      "cell_type": "markdown",
      "metadata": {},
      "source": [
        "### Analisis Penggunaan Sepeda Berdasarkan Kondisi Cuaca"
      ]
    },
    {
      "cell_type": "code",
      "execution_count": null,
      "metadata": {},
      "outputs": [],
      "source": [
        "# Penggunaan sepeda berdasarkan kondisi cuaca\n",
        "plt.figure(figsize=(10, 6))\n",
        "sns.boxplot(data=cleaned_data, x='weathersit', y='cnt')\n",
        "plt.title('Penggunaan Sepeda Berdasarkan Kondisi Cuaca')\n",
        "plt.xlabel('Kondisi Cuaca')\n",
        "plt.ylabel('Jumlah Pengguna')\n",
        "plt.show()"
      ]
    },
    {
      "cell_type": "markdown",
      "metadata": {},
      "source": [
        "### Korelasi Antar Variabel"
      ]
    },
    {
      "cell_type": "code",
      "execution_count": null,
      "metadata": {},
      "outputs": [],
      "source": [
        "# Korelasi antar variabel\n",
        "plt.figure(figsize=(12, 8))\n",
        "sns.heatmap(cleaned_data.corr(), annot=True, cmap='coolwarm', vmin=-1, vmax=1)\n",
        "plt.title('Matriks Korelasi')\n",
        "plt.show()"
      ]
    },
    {
      "cell_type": "markdown",
      "metadata": {
        "id": "zsyZjqak8DC2"
      },
      "source": [
        "## Visualization & Explanatory Analysis"
      ]
    },
    {
      "cell_type": "markdown",
      "metadata": {
        "id": "HZxOiQ6n8DC2"
      },
      "source": [
        "### Pertanyaan 1: Bagaimana tren penggunaan sepeda sepanjang tahun?"
      ]
    },
    {
      "cell_type": "code",
      "execution_count": null,
      "metadata": {
        "id": "1swJUdAD8DC2"
      },
      "outputs": [],
      "source": [
        "import matplotlib.pyplot as plt\n",
        "import seaborn as sns\n",
        "\n",
        "# Mengubah kolom dteday menjadi tipe datetime\n",
        "day_data['dteday'] = pd.to_datetime(day_data['dteday'])\n",
        "\n",
        "# Membuat plot tren penggunaan sepeda\n",
        "plt.figure(figsize=(14, 7))\n",
        "sns.lineplot(data=day_data, x='dteday', y='cnt', label='Total Pengguna')\n",
        "plt.title('Tren Penggunaan Sepeda Sepanjang Tahun')\n",
        "plt.xlabel('Tanggal')\n",
        "plt.ylabel('Jumlah Pengguna')\n",
        "plt.legend()\n",
        "plt.show()\n"
      ]
    },
    {
      "cell_type": "markdown",
      "metadata": {
        "id": "DgHI7CiU8DC2"
      },
      "source": [
        "### Pertanyaan 2: Apakah ada pengaruh cuaca terhadap jumlah pengguna sepeda?"
      ]
    },
    {
      "cell_type": "code",
      "execution_count": null,
      "metadata": {
        "id": "Go0lCsvO8DC2"
      },
      "outputs": [],
      "source": [
        "# Membuat plot boxplot untuk melihat distribusi pengguna berdasarkan kondisi cuaca\n",
        "plt.figure(figsize=(10, 6))\n",
        "sns.boxplot(data=day_data, x='weathersit', y='cnt')\n",
        "plt.title('Pengaruh Cuaca terhadap Jumlah Pengguna Sepeda')\n",
        "plt.xlabel('Kondisi Cuaca')\n",
        "plt.ylabel('Jumlah Pengguna')\n",
        "plt.show()"
      ]
    },
    {
      "cell_type": "markdown",
      "metadata": {
        "id": "_WeHlCeX8DC2"
      },
      "source": [
        "## Conclusion"
      ]
    },
    {
      "cell_type": "markdown",
      "metadata": {
        "id": "ZTcyR48Y8DC2"
      },
      "source": [
        "## Conclusion Pertanyaan 1: Bagaimana tren penggunaan sepeda sepanjang tahun?\n",
        "\n",
        "Dari visualisasi yang telah kita buat, terlihat bahwa penggunaan sepeda mengalami variasi sepanjang tahun. Beberapa poin utama yang bisa kita amati adalah:\n",
        "\n",
        "1. **Musim Panas dan Gugur**: Penggunaan sepeda cenderung meningkat selama bulan-bulan musim panas dan gugur. Ini mungkin disebabkan oleh cuaca yang lebih nyaman untuk bersepeda.\n",
        "2. **Musim Dingin**: Penggunaan sepeda menurun selama bulan-bulan musim dingin, yang bisa disebabkan oleh suhu yang lebih rendah dan kondisi cuaca yang kurang mendukung untuk bersepeda.\n",
        "3. **Puncak Penggunaan**: Terdapat puncak penggunaan sepeda pada bulan tertentu, menunjukkan adanya kemungkinan event atau faktor lain yang meningkatkan penggunaan sepeda pada waktu-waktu tersebut.\n",
        "\n",
        "Secara keseluruhan, tren penggunaan sepeda menunjukkan pola musiman yang kuat, dengan penggunaan tertinggi terjadi pada bulan-bulan dengan cuaca yang lebih baik.\n",
        "\n",
        "## Conclusion Pertanyaan 2: Apakah ada pengaruh cuaca terhadap jumlah pengguna sepeda?\n",
        "\n",
        "Dari visualisasi boxplot yang kita buat, kita dapat melihat pengaruh cuaca terhadap jumlah pengguna sepeda. Beberapa poin utama yang bisa kita amati adalah:\n",
        "\n",
        "1. **Cuaca Cerah atau Berawan Ringan**: Pengguna sepeda paling banyak tercatat saat kondisi cuaca cerah atau berawan ringan (kategori `weathersit` 1). Ini menunjukkan bahwa cuaca yang baik mendorong lebih banyak orang untuk bersepeda.\n",
        "2. **Cuaca Mendung atau Berkabut**: Jumlah pengguna sepeda menurun saat cuaca mendung atau berkabut (kategori `weathersit` 2). Meskipun penurunan tidak terlalu drastis, kondisi cuaca yang kurang ideal tetap mempengaruhi jumlah pengguna.\n",
        "3. **Cuaca Hujan atau Salju**: Penggunaan sepeda paling rendah tercatat saat kondisi cuaca hujan atau salju (kategori `weathersit` 3). Hal ini menunjukkan bahwa kondisi cuaca ekstrem sangat membatasi aktivitas bersepeda.\n",
        "\n",
        "Kesimpulannya, kondisi cuaca memiliki pengaruh yang signifikan terhadap jumlah pengguna sepeda. Semakin baik kondisi cuaca, semakin banyak orang yang cenderung menggunakan sepeda.\n"
      ]
    }
  ],
  "metadata": {
    "colab": {
      "provenance": []
    },
    "kernelspec": {
      "display_name": "Python 3",
      "language": "python",
      "name": "python3"
    },
    "language_info": {
      "codemirror_mode": {
        "name": "ipython",
        "version": 3
      },
      "file_extension": ".py",
      "mimetype": "text/x-python",
      "name": "python",
      "nbconvert_exporter": "python",
      "pygments_lexer": "ipython3",
      "version": "3.11.9"
    },
    "orig_nbformat": 4,
    "vscode": {
      "interpreter": {
        "hash": "972b3bf27e332e87b5379f2791f6ef9dfc79c71018c370b0d7423235e20fe4d7"
      }
    }
  },
  "nbformat": 4,
  "nbformat_minor": 0
}
